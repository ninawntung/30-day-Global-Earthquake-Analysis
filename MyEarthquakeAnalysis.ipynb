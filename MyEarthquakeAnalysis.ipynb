{
 "cells": [
  {
   "attachments": {},
   "cell_type": "markdown",
   "metadata": {},
   "source": [
    "# 30-day Global Earthquake Analysis"
   ]
  },
  {
   "attachments": {},
   "cell_type": "markdown",
   "metadata": {},
   "source": [
    "### Demonstration"
   ]
  },
  {
   "cell_type": "code",
   "execution_count": 1,
   "metadata": {},
   "outputs": [
    {
     "data": {
      "text/plain": [
       "'my_global_earthquakes.html'"
      ]
     },
     "execution_count": 1,
     "metadata": {},
     "output_type": "execute_result"
    }
   ],
   "source": [
    "import json\n",
    "from plotly.graph_objects import Scattergeo, Layout\n",
    "from plotly import offline\n",
    "\n",
    "# Read and write file\n",
    "filename = 'eq_data_30_day_m1.json'\n",
    "with open(filename) as f:\n",
    "    all_eq_data = json.load(f)\n",
    "\n",
    "readable_file = 'readable_eq_data.json'\n",
    "with open(readable_file, 'w') as f:\n",
    "    json.dump(all_eq_data, f, indent=4)\n",
    "\n",
    "# Making a list of all earthquakes\n",
    "all_eq_dicts = all_eq_data['features']\n",
    "\n",
    "# Extracting magnitudes, longtitudes and latitude, hover text\n",
    "mags = []\n",
    "lons = []\n",
    "lats = []\n",
    "hover_texts = []\n",
    "\n",
    "for eq_dict in all_eq_dicts:\n",
    "    mag = eq_dict['properties']['mag']\n",
    "    lon = eq_dict['geometry']['coordinates'][0]\n",
    "    lat = eq_dict['geometry']['coordinates'][1]\n",
    "    title = eq_dict['properties']['title']\n",
    "    \n",
    "    mags.append(mag)\n",
    "    lons.append(lon)\n",
    "    lats.append(lat)\n",
    "    hover_texts.append(title)\n",
    "\n",
    "# Map the earthquakes\n",
    "data = [{\n",
    "        'type': 'scattergeo',\n",
    "        'lon': lons,\n",
    "        'lat': lats,\n",
    "        'text': hover_texts, #pass a list\n",
    "        'marker':{\n",
    "            'size':[5*mag for mag in mags],\n",
    "            'color': mags,\n",
    "            'colorscale': 'Inferno',\n",
    "            'reversescale': False,\n",
    "            'colorbar': {'title':'Magnitude'},\n",
    "        }\n",
    "    }] \n",
    "my_layout = Layout(title=\"Global Earthquakes\")\n",
    "\n",
    "fig = {'data':data, 'layout':my_layout}\n",
    "offline.plot(fig, filename='my_global_earthquakes.html')\n"
   ]
  },
  {
   "attachments": {},
   "cell_type": "markdown",
   "metadata": {},
   "source": [
    "### Automated Title"
   ]
  },
  {
   "cell_type": "code",
   "execution_count": 9,
   "metadata": {},
   "outputs": [
    {
     "data": {
      "text/plain": [
       "'global_earthquakes.html'"
      ]
     },
     "execution_count": 9,
     "metadata": {},
     "output_type": "execute_result"
    }
   ],
   "source": [
    "import json\n",
    "\n",
    "from plotly.graph_objs import Scattergeo, Layout\n",
    "from plotly import offline\n",
    "\n",
    "# Explore the structure of the data.\n",
    "filename = 'eq_data_30_day_m1.json'\n",
    "with open(filename) as f:\n",
    "    all_eq_data = json.load(f)\n",
    "\n",
    "title = all_eq_data['metadata']['title']\n",
    "all_eq_dicts = all_eq_data['features']\n",
    "\n",
    "mags, lons, lats, hover_texts = [], [], [], []\n",
    "for eq_dict in all_eq_dicts:\n",
    "    mags.append(eq_dict['properties']['mag'])\n",
    "    lons.append(eq_dict['geometry']['coordinates'][0])\n",
    "    lats.append(eq_dict['geometry']['coordinates'][1])\n",
    "    hover_texts.append(eq_dict['properties']['title'])\n",
    "\n",
    "# Map the earthquakes.\n",
    "data = [{\n",
    "    'type': 'scattergeo',\n",
    "    'lon': lons,\n",
    "    'lat': lats,\n",
    "    'text': hover_texts,\n",
    "    'marker': {\n",
    "        'size': [5*mag for mag in mags],\n",
    "        'color': mags,\n",
    "        'colorscale': 'Inferno',\n",
    "        'reversescale': False,\n",
    "        'colorbar': {'title': 'Magnitude'},\n",
    "    },\n",
    "}]\n",
    "\n",
    "my_layout = Layout(title=title)\n",
    "\n",
    "fig = {'data': data, 'layout': my_layout}\n",
    "offline.plot(fig, filename='global_earthquakes.html')"
   ]
  },
  {
   "cell_type": "code",
   "execution_count": null,
   "metadata": {},
   "outputs": [],
   "source": []
  }
 ],
 "metadata": {
  "kernelspec": {
   "display_name": "base",
   "language": "python",
   "name": "python3"
  },
  "language_info": {
   "codemirror_mode": {
    "name": "ipython",
    "version": 3
   },
   "file_extension": ".py",
   "mimetype": "text/x-python",
   "name": "python",
   "nbconvert_exporter": "python",
   "pygments_lexer": "ipython3",
   "version": "3.9.12"
  },
  "orig_nbformat": 4
 },
 "nbformat": 4,
 "nbformat_minor": 2
}
